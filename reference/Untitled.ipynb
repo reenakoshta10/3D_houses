{
 "cells": [
  {
   "cell_type": "code",
   "execution_count": 1,
   "id": "b96240ea",
   "metadata": {},
   "outputs": [],
   "source": [
    "from geopy.geocoders import Nominatim\n",
    "from osgeo import gdal, osr, ogr\n",
    "import numpy as np\n",
    "import matplotlib.pyplot as plt\n",
    "from mpl_toolkits import mplot3d\n",
    "from bs4 import BeautifulSoup\n",
    "import requests \n",
    "import shapefile\n",
    "from shapely.geometry import Polygon\n",
    "import pandas as pd\n",
    "from urllib.request import urlopen\n",
    "from io import BytesIO\n",
    "from zipfile import ZipFile\n",
    "import os"
   ]
  },
  {
   "cell_type": "code",
   "execution_count": 6,
   "id": "7a6eee5f",
   "metadata": {},
   "outputs": [],
   "source": [
    "def clip_raster(raster_path, aoi_path, out_path, srs_id=4326, flip_x_y = False):\n",
    "    \"\"\"\n",
    "    Clips a raster at raster_path to a shapefile given by aoi_path. Assumes a shapefile only has one polygon.\n",
    "    Will np.floor() when converting from geo to pixel units and np.absolute() y resolution form geotransform.\n",
    "    Will also reproject the shapefile to the same projection as the raster if needed.\n",
    "\n",
    "    Parameters\n",
    "    ----------\n",
    "    raster_path\n",
    "        Path to the raster to be clipped.\n",
    "    aoi_path\n",
    "        Path to a shapefile containing a single polygon\n",
    "    out_path\n",
    "        Path to a location to save the final output raster\n",
    "\n",
    "    \"\"\"\n",
    "    # https://gis.stackexchange.com/questions/257257/how-to-use-gdal-warp-cutline-option\n",
    "    with TemporaryDirectory() as td:\n",
    "#         log.info(\"Clipping {} with {}\".format(raster_path, aoi_path))\n",
    "        raster = gdal.Open(raster_path)\n",
    "        in_gt = raster.GetGeoTransform()\n",
    "        srs = osr.SpatialReference()\n",
    "        srs.ImportFromWkt(raster.GetProjection())\n",
    "        intersection_path = os.path.join(td, 'intersection')\n",
    "        aoi = ogr.Open(aoi_path)\n",
    "        if aoi.GetLayer(0).GetSpatialRef().ExportToWkt() != srs.ExportToWkt():    # Gross string comparison. Might replace with wkb\n",
    "#             log.info(\"Non-matching projections, reprojecting.\")\n",
    "            aoi = None\n",
    "            tmp_aoi_path = os.path.join(td, \"tmp_aoi.shp\")\n",
    "            reproject_vector(aoi_path, tmp_aoi_path, srs)\n",
    "            aoi = ogr.Open(tmp_aoi_path)\n",
    "        intersection = get_aoi_intersection(raster, aoi)\n",
    "        min_x_geo, max_x_geo, min_y_geo, max_y_geo = intersection.GetEnvelope()\n",
    "        if flip_x_y:\n",
    "            min_x_geo, min_y_geo = min_y_geo, min_x_geo\n",
    "            max_x_geo, max_y_geo = max_y_geo, max_x_geo\n",
    "        width_pix = int(np.floor(max_x_geo - min_x_geo)/in_gt[1])\n",
    "        height_pix = int(np.floor(max_y_geo - min_y_geo)/np.absolute(in_gt[5]))\n",
    "        new_geotransform = (min_x_geo, in_gt[1], 0, max_y_geo, 0, in_gt[5])   # OK, time for hacking\n",
    "        write_geometry(intersection, intersection_path, srs_id=srs.ExportToWkt())\n",
    "        clip_spec = gdal.WarpOptions(\n",
    "            format=\"GTiff\",\n",
    "            cutlineDSName=intersection_path+r\"/geometry.shp\",   # TODO: Fix the need for this\n",
    "            cropToCutline=True,\n",
    "            width=width_pix,\n",
    "            height=height_pix,\n",
    "            dstSRS=srs\n",
    "        )\n",
    "        out = gdal.Warp(out_path, raster, options=clip_spec)\n",
    "        out.SetGeoTransform(new_geotransform)\n",
    "        out = None "
   ]
  },
  {
   "cell_type": "code",
   "execution_count": 8,
   "id": "e793c96e",
   "metadata": {},
   "outputs": [
    {
     "ename": "NameError",
     "evalue": "name 'reproject_vector' is not defined",
     "output_type": "error",
     "traceback": [
      "\u001b[0;31m---------------------------------------------------------------------------\u001b[0m",
      "\u001b[0;31mNameError\u001b[0m                                 Traceback (most recent call last)",
      "\u001b[0;32m/tmp/ipykernel_32677/513015793.py\u001b[0m in \u001b[0;36m<module>\u001b[0;34m\u001b[0m\n\u001b[0;32m----> 1\u001b[0;31m \u001b[0mclip_raster\u001b[0m\u001b[0;34m(\u001b[0m\u001b[0;34m\"/home/admin1/projects/BeCode/3D_houses/geo-files/temp/DSM/GeoTIFF/DHMVIIDSMRAS1m_k24.tif\"\u001b[0m\u001b[0;34m,\u001b[0m \u001b[0;34m\"/home/admin1/projects/BeCode/3D_houses/geo-files/shapefiles/polygon.shp\"\u001b[0m\u001b[0;34m,\u001b[0m \u001b[0;34m\"/home/admin1/projects/BeCode/3D_houses/geo-files/shapefiles/dsm.tif\"\u001b[0m\u001b[0;34m,\u001b[0m \u001b[0msrs_id\u001b[0m\u001b[0;34m=\u001b[0m\u001b[0;36m4326\u001b[0m\u001b[0;34m,\u001b[0m \u001b[0mflip_x_y\u001b[0m \u001b[0;34m=\u001b[0m \u001b[0;32mFalse\u001b[0m\u001b[0;34m)\u001b[0m\u001b[0;34m\u001b[0m\u001b[0;34m\u001b[0m\u001b[0m\n\u001b[0m",
      "\u001b[0;32m/tmp/ipykernel_32677/2287272491.py\u001b[0m in \u001b[0;36mclip_raster\u001b[0;34m(raster_path, aoi_path, out_path, srs_id, flip_x_y)\u001b[0m\n\u001b[1;32m     28\u001b[0m             \u001b[0maoi\u001b[0m \u001b[0;34m=\u001b[0m \u001b[0;32mNone\u001b[0m\u001b[0;34m\u001b[0m\u001b[0;34m\u001b[0m\u001b[0m\n\u001b[1;32m     29\u001b[0m             \u001b[0mtmp_aoi_path\u001b[0m \u001b[0;34m=\u001b[0m \u001b[0mos\u001b[0m\u001b[0;34m.\u001b[0m\u001b[0mpath\u001b[0m\u001b[0;34m.\u001b[0m\u001b[0mjoin\u001b[0m\u001b[0;34m(\u001b[0m\u001b[0mtd\u001b[0m\u001b[0;34m,\u001b[0m \u001b[0;34m\"tmp_aoi.shp\"\u001b[0m\u001b[0;34m)\u001b[0m\u001b[0;34m\u001b[0m\u001b[0;34m\u001b[0m\u001b[0m\n\u001b[0;32m---> 30\u001b[0;31m             \u001b[0mreproject_vector\u001b[0m\u001b[0;34m(\u001b[0m\u001b[0maoi_path\u001b[0m\u001b[0;34m,\u001b[0m \u001b[0mtmp_aoi_path\u001b[0m\u001b[0;34m,\u001b[0m \u001b[0msrs\u001b[0m\u001b[0;34m)\u001b[0m\u001b[0;34m\u001b[0m\u001b[0;34m\u001b[0m\u001b[0m\n\u001b[0m\u001b[1;32m     31\u001b[0m             \u001b[0maoi\u001b[0m \u001b[0;34m=\u001b[0m \u001b[0mogr\u001b[0m\u001b[0;34m.\u001b[0m\u001b[0mOpen\u001b[0m\u001b[0;34m(\u001b[0m\u001b[0mtmp_aoi_path\u001b[0m\u001b[0;34m)\u001b[0m\u001b[0;34m\u001b[0m\u001b[0;34m\u001b[0m\u001b[0m\n\u001b[1;32m     32\u001b[0m         \u001b[0mintersection\u001b[0m \u001b[0;34m=\u001b[0m \u001b[0mget_aoi_intersection\u001b[0m\u001b[0;34m(\u001b[0m\u001b[0mraster\u001b[0m\u001b[0;34m,\u001b[0m \u001b[0maoi\u001b[0m\u001b[0;34m)\u001b[0m\u001b[0;34m\u001b[0m\u001b[0;34m\u001b[0m\u001b[0m\n",
      "\u001b[0;31mNameError\u001b[0m: name 'reproject_vector' is not defined"
     ]
    }
   ],
   "source": [
    "clip_raster(\"/home/admin1/projects/BeCode/3D_houses/geo-files/temp/DSM/GeoTIFF/DHMVIIDSMRAS1m_k24.tif\", \"/home/admin1/projects/BeCode/3D_houses/geo-files/shapefiles/polygon.shp\", \"/home/admin1/projects/BeCode/3D_houses/geo-files/shapefiles/dsm.tif\", srs_id=4326, flip_x_y = False)"
   ]
  },
  {
   "cell_type": "code",
   "execution_count": 4,
   "id": "efe1224f",
   "metadata": {},
   "outputs": [],
   "source": [
    "from tempfile import TemporaryDirectory"
   ]
  },
  {
   "cell_type": "code",
   "execution_count": 9,
   "id": "e8d10ec9",
   "metadata": {},
   "outputs": [],
   "source": [
    "polygon =[[190246.80202307552, 224044.05999746546],\n",
    " [190239.8010630682, 224046.38294146955],\n",
    " [190237.82320706546, 224040.54242946208],\n",
    " [190220.13885505497, 224046.86998146772],\n",
    " [190209.9166470468, 224017.93942144886],\n",
    " [190209.28867904842, 224018.15689344704],\n",
    " [190206.45693504065, 224019.13762944937],\n",
    " [190203.0089990422, 224008.9510054402],\n",
    " [190214.9869830534, 224004.9109414406],\n",
    " [190216.19760704786, 224008.50031744316],\n",
    " [190239.6020230651, 224000.2600614354],\n",
    " [190243.74410306662, 224013.55900544673],\n",
    " [190251.1810310781, 224010.88598144427],\n",
    " [190254.2069510743, 224019.68802944943],\n",
    " [190247.3671430722, 224022.13807745278],\n",
    " [190252.07895107567, 224035.82102146],\n",
    " [190244.7435270697, 224038.15702146292],\n",
    " [190246.80202307552, 224044.05999746546]]"
   ]
  },
  {
   "cell_type": "code",
   "execution_count": 11,
   "id": "f2fdddf5",
   "metadata": {},
   "outputs": [
    {
     "ename": "SyntaxError",
     "evalue": "invalid syntax (2099789960.py, line 1)",
     "output_type": "error",
     "traceback": [
      "\u001b[0;36m  File \u001b[0;32m\"/tmp/ipykernel_32677/2099789960.py\"\u001b[0;36m, line \u001b[0;32m1\u001b[0m\n\u001b[0;31m    x,y= [x:x,y:y for x,y in polygon]\u001b[0m\n\u001b[0m           ^\u001b[0m\n\u001b[0;31mSyntaxError\u001b[0m\u001b[0;31m:\u001b[0m invalid syntax\n"
     ]
    }
   ],
   "source": [
    "x,y= [x:x,y:y for x,y in polygon]"
   ]
  },
  {
   "cell_type": "code",
   "execution_count": null,
   "id": "133fbbdd",
   "metadata": {},
   "outputs": [],
   "source": []
  }
 ],
 "metadata": {
  "kernelspec": {
   "display_name": "Python 3 (ipykernel)",
   "language": "python",
   "name": "python3"
  },
  "language_info": {
   "codemirror_mode": {
    "name": "ipython",
    "version": 3
   },
   "file_extension": ".py",
   "mimetype": "text/x-python",
   "name": "python",
   "nbconvert_exporter": "python",
   "pygments_lexer": "ipython3",
   "version": "3.9.7"
  }
 },
 "nbformat": 4,
 "nbformat_minor": 5
}
