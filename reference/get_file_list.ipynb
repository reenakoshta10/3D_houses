{
 "cells": [
  {
   "cell_type": "code",
   "execution_count": 23,
   "id": "1729dfd6",
   "metadata": {},
   "outputs": [],
   "source": [
    "from bs4 import BeautifulSoup\n",
    "import requests\n",
    "from urllib.request import urlopen\n",
    "from io import BytesIO\n",
    "from zipfile import ZipFile\n",
    "from osgeo import gdal, osr, ogr\n",
    "import os"
   ]
  },
  {
   "cell_type": "code",
   "execution_count": 51,
   "id": "6cef938d",
   "metadata": {},
   "outputs": [],
   "source": [
    "def download_and_unzip(url, extract_to):\n",
    "    http_response = urlopen(url)\n",
    "    zipfile = ZipFile(BytesIO(http_response.read()))\n",
    "    zipfile.extractall(path=extract_to)\n"
   ]
  },
  {
   "cell_type": "code",
   "execution_count": 63,
   "id": "4295f124",
   "metadata": {},
   "outputs": [
    {
     "name": "stdout",
     "output_type": "stream",
     "text": [
      "DHMVIIDSMRAS1m_k01.zip\n",
      "[{'xmin': 145000.0, 'ymax': 247000.0, 'file_link': 'https://downloadagiv.blob.core.windows.net/dhm-vlaanderen-ii-dsm-raster-1m/DHMVIIDSMRAS1m_k01.zip'}]\n"
     ]
    }
   ],
   "source": [
    "file_links=[]\n",
    "file_path = os.path.abspath(\"../geo-files/temp/\")\n",
    "response= requests.get(\"http://www.geopunt.be/download?container=dhm-vlaanderen-ii-dsm-raster-1m&title=Digitaal%20Hoogtemodel%20Vlaanderen%20II,%20DSM,%20raster,%201m\")\n",
    "# time.sleep(random.uniform(1.0, 2.0))\n",
    "# print(link,response.status_code)\n",
    "soup = BeautifulSoup(response.content)\n",
    "download_links = soup.find('div', attrs={\"class\":\"downloadfileblock\"})\n",
    "for link in download_links.find_all('a'):\n",
    "    \n",
    "    download_and_unzip(link.get(\"href\"), file_path)\n",
    "    zipfile = link.get(\"href\").split(\"/\")[-1]\n",
    "    print(zipfile)\n",
    "    geofile = '' \n",
    "    for filename in os.listdir(file_path+\"/GeoTIFF\"):\n",
    "#         print(filename)\n",
    "        if os.path.splitext(filename)[1]==\".tif\":\n",
    "            geofile = filename\n",
    "            ds = gdal.Open(os.path.abspath(file_path+\"/GeoTIFF/\"+ geofile))\n",
    "            tran = ds.GetGeoTransform()\n",
    "            file_coordinate_map={\"xmin\":tran[0], \"ymax\": tran[3], \"file_link\": link.get(\"href\")}\n",
    "            file_links.append(file_coordinate_map)\n",
    "#     with ZipFile(os.path.abspath(\"../geo-files/DHMVIIDSMRAS1m_k08.zip\"), 'r') as zip:\n",
    "#         for info in zip.infolist():\n",
    "#                 print(info.filename)\n",
    "#                 if info.filename.endswith(\".tif\"):\n",
    "#                     geofile = info.filename\n",
    "#     ds = gdal.open(os.path.abspath(\"../geo-files/temp/\"+ geofile))\n",
    "#     print(ds.GetGeoTransform())\n",
    "    break\n",
    "print(file_links)"
   ]
  },
  {
   "cell_type": "code",
   "execution_count": 40,
   "id": "bbe130f4",
   "metadata": {},
   "outputs": [
    {
     "name": "stdout",
     "output_type": "stream",
     "text": [
      "DHMVII_vdc_k08.zip\n"
     ]
    },
    {
     "name": "stderr",
     "output_type": "stream",
     "text": [
      "ERROR 4: GeoTIFF/DHMVIIDSMRAS1m_k08.tif: No such file or directory\n"
     ]
    },
    {
     "ename": "AttributeError",
     "evalue": "'NoneType' object has no attribute 'GetGeoTransform'",
     "output_type": "error",
     "traceback": [
      "\u001b[0;31m---------------------------------------------------------------------------\u001b[0m",
      "\u001b[0;31mAttributeError\u001b[0m                            Traceback (most recent call last)",
      "\u001b[0;32m/tmp/ipykernel_8606/3131706145.py\u001b[0m in \u001b[0;36m<module>\u001b[0;34m\u001b[0m\n\u001b[1;32m     11\u001b[0m             \u001b[0;32mif\u001b[0m \u001b[0mfile\u001b[0m\u001b[0;34m.\u001b[0m\u001b[0mendswith\u001b[0m\u001b[0;34m(\u001b[0m\u001b[0;34m\".tif\"\u001b[0m\u001b[0;34m)\u001b[0m\u001b[0;34m:\u001b[0m\u001b[0;34m\u001b[0m\u001b[0;34m\u001b[0m\u001b[0m\n\u001b[1;32m     12\u001b[0m                 \u001b[0mf\u001b[0m \u001b[0;34m=\u001b[0m \u001b[0mgdal\u001b[0m\u001b[0;34m.\u001b[0m\u001b[0mOpen\u001b[0m\u001b[0;34m(\u001b[0m\u001b[0mfile\u001b[0m\u001b[0;34m)\u001b[0m\u001b[0;34m\u001b[0m\u001b[0;34m\u001b[0m\u001b[0m\n\u001b[0;32m---> 13\u001b[0;31m                 \u001b[0mprint\u001b[0m\u001b[0;34m(\u001b[0m\u001b[0mf\u001b[0m\u001b[0;34m.\u001b[0m\u001b[0mGetGeoTransform\u001b[0m\u001b[0;34m(\u001b[0m\u001b[0;34m)\u001b[0m\u001b[0;34m)\u001b[0m\u001b[0;34m\u001b[0m\u001b[0;34m\u001b[0m\u001b[0m\n\u001b[0m\u001b[1;32m     14\u001b[0m \u001b[0;31m#             print('\\tModified:\\t' + str(datetime.datetime(*info.date_time)))\u001b[0m\u001b[0;34m\u001b[0m\u001b[0;34m\u001b[0m\u001b[0m\n\u001b[1;32m     15\u001b[0m \u001b[0;31m#             print('\\tSystem:\\t\\t' + str(info.create_system) + '(0 = Windows, 3 = Unix)')\u001b[0m\u001b[0;34m\u001b[0m\u001b[0;34m\u001b[0m\u001b[0m\n",
      "\u001b[0;31mAttributeError\u001b[0m: 'NoneType' object has no attribute 'GetGeoTransform'"
     ]
    }
   ],
   "source": [
    "# download_and_unzip(os.path.abspath(\"../geo-files/DHMVIIDSMRAS1m_k08.zip\"))\n",
    "# with ZipFile(os.path.abspath(\"../geo-files/DHMVIIDSMRAS1m_k08.zip\")) as myzip:\n",
    "#     for file in myzip.namelist():\n",
    "#         if file.endswith(\".tif\"):\n",
    "#             f = gdal.Open(file)\n",
    "#             print(f.GetGeoTransform())\n",
    "geofile = ''       \n",
    "with ZipFile(os.path.abspath(\"../geo-files/DHMVIIDSMRAS1m_k08.zip\"), 'r') as zip:\n",
    "    for info in zip.infolist():\n",
    "            print(info.filename)\n",
    "            if info.filename.endswith(\".tif\"):\n",
    "                geofile = info.filename\n",
    "#             print('\\tModified:\\t' + str(datetime.datetime(*info.date_time)))\n",
    "#             print('\\tSystem:\\t\\t' + str(info.create_system) + '(0 = Windows, 3 = Unix)')\n",
    "#             print('\\tZIP version:\\t' + str(info.create_version))\n",
    "#             print('\\tCompressed:\\t' + str(info.compress_size) + ' bytes')\n",
    "#             print('\\tUncompressed:\\t' + str(info.file_size) + ' bytes')\n",
    "# ds = gdal.open(os.path.abspath(\"../geo-files/temp/\"+ geofile))\n",
    "# print(ds.GetGeoTransform())"
   ]
  },
  {
   "cell_type": "code",
   "execution_count": null,
   "id": "0416ffce",
   "metadata": {},
   "outputs": [],
   "source": []
  }
 ],
 "metadata": {
  "kernelspec": {
   "display_name": "Python 3 (ipykernel)",
   "language": "python",
   "name": "python3"
  },
  "language_info": {
   "codemirror_mode": {
    "name": "ipython",
    "version": 3
   },
   "file_extension": ".py",
   "mimetype": "text/x-python",
   "name": "python",
   "nbconvert_exporter": "python",
   "pygments_lexer": "ipython3",
   "version": "3.9.7"
  }
 },
 "nbformat": 4,
 "nbformat_minor": 5
}
