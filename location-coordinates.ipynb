{
 "cells": [
  {
   "cell_type": "code",
   "execution_count": 2,
   "id": "6d6ceb1a",
   "metadata": {},
   "outputs": [],
   "source": [
    "from geopy.geocoders import Nominatim"
   ]
  },
  {
   "cell_type": "code",
   "execution_count": 6,
   "id": "b67d9f28",
   "metadata": {},
   "outputs": [],
   "source": [
    "geolocator = Nominatim(user_agent=\"Test\")"
   ]
  },
  {
   "cell_type": "code",
   "execution_count": 9,
   "id": "ea16d046",
   "metadata": {},
   "outputs": [
    {
     "name": "stdout",
     "output_type": "stream",
     "text": [
      "{'place_id': 283074042, 'licence': 'Data © OpenStreetMap contributors, ODbL 1.0. https://osm.org/copyright', 'osm_type': 'relation', 'osm_id': 9185096, 'boundingbox': ['-1.444471', '-1.163332', '36.6509378', '37.1038871'], 'lat': '-1.2832533', 'lon': '36.8172449', 'display_name': 'Nairobi, Kenya', 'class': 'place', 'type': 'city', 'importance': 0.845026759433763, 'icon': 'https://nominatim.openstreetmap.org/ui/mapicons//poi_place_city.p.20.png'}\n"
     ]
    }
   ],
   "source": [
    "# get location raw data\n",
    "location = geolocator.geocode(\"Nairobi, Kenya\").raw\n",
    "# print raw data\n",
    "print(location)"
   ]
  },
  {
   "cell_type": "code",
   "execution_count": 10,
   "id": "021f00a3",
   "metadata": {},
   "outputs": [],
   "source": [
    "latitude = location[\"lat\"]\n",
    "longitude = location[\"lon\"]"
   ]
  },
  {
   "cell_type": "code",
   "execution_count": 11,
   "id": "d6ca0add",
   "metadata": {},
   "outputs": [
    {
     "name": "stdout",
     "output_type": "stream",
     "text": [
      "-1.2832533 36.8172449\n"
     ]
    }
   ],
   "source": [
    "print(latitude,longitude)"
   ]
  },
  {
   "cell_type": "code",
   "execution_count": null,
   "id": "b5e62fac",
   "metadata": {},
   "outputs": [],
   "source": []
  }
 ],
 "metadata": {
  "kernelspec": {
   "display_name": "Python 3 (ipykernel)",
   "language": "python",
   "name": "python3"
  },
  "language_info": {
   "codemirror_mode": {
    "name": "ipython",
    "version": 3
   },
   "file_extension": ".py",
   "mimetype": "text/x-python",
   "name": "python",
   "nbconvert_exporter": "python",
   "pygments_lexer": "ipython3",
   "version": "3.9.7"
  }
 },
 "nbformat": 4,
 "nbformat_minor": 5
}
