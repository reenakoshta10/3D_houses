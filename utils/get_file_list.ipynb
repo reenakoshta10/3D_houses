{
 "cells": [
  {
   "cell_type": "code",
   "execution_count": 17,
   "id": "df67b44d",
   "metadata": {},
   "outputs": [],
   "source": [
    "from bs4 import BeautifulSoup\n",
    "import requests\n",
    "from urllib.request import urlopen\n",
    "from io import BytesIO\n",
    "from zipfile import ZipFile\n",
    "from osgeo import gdal, osr, ogr\n",
    "import os\n",
    "import shutil\n",
    "import time"
   ]
  },
  {
   "cell_type": "code",
   "execution_count": 18,
   "id": "5899a53c",
   "metadata": {},
   "outputs": [],
   "source": [
    "def download_and_unzip(url, extract_to):\n",
    "    http_response = urlopen(url)\n",
    "    zipfile = ZipFile(BytesIO(http_response.read()))\n",
    "    zipfile.extractall(path=extract_to)\n"
   ]
  },
  {
   "cell_type": "code",
   "execution_count": 20,
   "id": "1a4909df",
   "metadata": {},
   "outputs": [
    {
     "name": "stdout",
     "output_type": "stream",
     "text": [
      "01\n",
      "02\n",
      "03\n",
      "04\n",
      "05\n",
      "06\n",
      "07\n",
      "08\n",
      "[{'file_number': '08', 'xmin': 162000.0, 'ymin': 206000.0, 'xmax': 194000.0, 'ymax': 238000.0, 'file_link': 'https://downloadagiv.blob.core.windows.net/dhm-vlaanderen-ii-dsm-raster-1m/DHMVIIDSMRAS1m_k08.zip'}]\n"
     ]
    }
   ],
   "source": [
    "file_links=[]\n",
    "file_path = os.path.abspath(\"../geo-files/temp/\")\n",
    "response= requests.get(\"http://www.geopunt.be/download?container=dhm-vlaanderen-ii-dsm-raster-1m&title=Digitaal%20Hoogtemodel%20Vlaanderen%20II,%20DSM,%20raster,%201m\")\n",
    "soup = BeautifulSoup(response.content)\n",
    "download_links = soup.find('div', attrs={\"class\":\"downloadfileblock\"})\n",
    "for link in download_links.find_all('a'):\n",
    "    zipfile = link.get(\"href\").split(\"/\")[-1]\n",
    "    zipfile_number = zipfile.split(\".\")[0][-2:]\n",
    "    print(zipfile_number)\n",
    "    if(int(zipfile_number)>='08'):\n",
    "        \n",
    "        geofile = '' \n",
    "        time.sleep(10) \n",
    "        download_and_unzip(link.get(\"href\"), file_path)\n",
    "\n",
    "        for filename in os.listdir(file_path+\"/GeoTIFF\"):\n",
    "            if os.path.splitext(filename)[1]==\".tif\":\n",
    "                geofile = filename\n",
    "                ds = gdal.Open(os.path.abspath(file_path+\"/GeoTIFF/\"+ geofile))\n",
    "                tran = ds.GetGeoTransform()\n",
    "                res_x = tran[1]\n",
    "                res_y = tran[5]\n",
    "                xmin = tran[0]\n",
    "                ymax = tran[3]\n",
    "                xmax = tran[0] + res_x * ds.RasterXSize\n",
    "                ymin = tran[3] + res_y * ds.RasterXSize\n",
    "                file_coordinate_map={\"file_number\":zipfile_number, \"xmin\":xmin, \"ymin\": ymin,\"xmax\":xmax, \"ymax\": ymax, \"file_link\": link.get(\"href\")}\n",
    "                file_links.append(file_coordinate_map)\n",
    "        try:\n",
    "            shutil.rmtree(os.path.abspath(\"../geo-files/temp/\"))\n",
    "        except OSError as e:\n",
    "            print(\"Error: %s \" % (e.strerror))\n",
    "        break\n",
    "    else:\n",
    "        continue\n",
    "print(file_links)"
   ]
  },
  {
   "cell_type": "code",
   "execution_count": 3,
   "id": "08d8e513",
   "metadata": {},
   "outputs": [],
   "source": [
    "# file_links = [{'file_number': '01', 'xmin': 145000.0, 'ymin': 230000.0, 'xmax': 162000.0, 'ymax': 247000.0, 'file_link': 'https://downloadagiv.blob.core.windows.net/dhm-vlaanderen-ii-dsm-raster-1m/DHMVIIDSMRAS1m_k01.zip'}, {'file_number': '02', 'xmin': 162000.0, 'ymin': 218000.0, 'xmax': 194000.0, 'ymax': 250000.0, 'file_link': 'https://downloadagiv.blob.core.windows.net/dhm-vlaanderen-ii-dsm-raster-1m/DHMVIIDSMRAS1m_k02.zip'}, {'file_number': '03', 'xmin': 194000.0, 'ymin': 236000.0, 'xmax': 206000.0, 'ymax': 248000.0, 'file_link': 'https://downloadagiv.blob.core.windows.net/dhm-vlaanderen-ii-dsm-raster-1m/DHMVIIDSMRAS1m_k03.zip'}, {'file_number': '04', 'xmin': 53000.0, 'ymin': 212500.0, 'xmax': 66000.0, 'ymax': 225500.0, 'file_link': 'https://downloadagiv.blob.core.windows.net/dhm-vlaanderen-ii-dsm-raster-1m/DHMVIIDSMRAS1m_k04.zip'}, {'file_number': '05', 'xmin': 66000.0, 'ymin': 200000.0, 'xmax': 98000.0, 'ymax': 232000.0, 'file_link': 'https://downloadagiv.blob.core.windows.net/dhm-vlaanderen-ii-dsm-raster-1m/DHMVIIDSMRAS1m_k05.zip'}, {'file_number': '06', 'xmin': 98000.0, 'ymin': 195000.0, 'xmax': 130000.0, 'ymax': 227000.0, 'file_link': 'https://downloadagiv.blob.core.windows.net/dhm-vlaanderen-ii-dsm-raster-1m/DHMVIIDSMRAS1m_k06.zip'}, {'file_number': '07', 'xmin': 130000.0, 'ymin': 206000.0, 'xmax': 162000.0, 'ymax': 238000.0, 'file_link': 'https://downloadagiv.blob.core.windows.net/dhm-vlaanderen-ii-dsm-raster-1m/DHMVIIDSMRAS1m_k07.zip'}, {'file_number': '08', 'xmin': 162000.0, 'ymin': 206000.0, 'xmax': 194000.0, 'ymax': 238000.0, 'file_link': 'https://downloadagiv.blob.core.windows.net/dhm-vlaanderen-ii-dsm-raster-1m/DHMVIIDSMRAS1m_k08.zip'}, {'file_number': '09', 'xmin': 194000.0, 'ymin': 206000.0, 'xmax': 226000.0, 'ymax': 238000.0, 'file_link': 'https://downloadagiv.blob.core.windows.net/dhm-vlaanderen-ii-dsm-raster-1m/DHMVIIDSMRAS1m_k09.zip'}, {'file_number': '10', 'xmin': 226000.0, 'ymin': 215000.0, 'xmax': 238000.0, 'ymax': 227000.0, 'file_link': 'https://downloadagiv.blob.core.windows.net/dhm-vlaanderen-ii-dsm-raster-1m/DHMVIIDSMRAS1m_k10.zip'}, {'file_number': '11', 'xmin': 18500.0, 'ymin': 191000.0, 'xmax': 34000.0, 'ymax': 206500.0, 'file_link': 'https://downloadagiv.blob.core.windows.net/dhm-vlaanderen-ii-dsm-raster-1m/DHMVIIDSMRAS1m_k11.zip'}, {'file_number': '12', 'xmin': 34000.0, 'ymin': 186000.0, 'xmax': 66000.0, 'ymax': 218000.0, 'file_link': 'https://downloadagiv.blob.core.windows.net/dhm-vlaanderen-ii-dsm-raster-1m/DHMVIIDSMRAS1m_k12.zip'}, {'file_number': '13', 'xmin': 66000.0, 'ymin': 186000.0, 'xmax': 98000.0, 'ymax': 218000.0, 'file_link': 'https://downloadagiv.blob.core.windows.net/dhm-vlaanderen-ii-dsm-raster-1m/DHMVIIDSMRAS1m_k13.zip'}, {'file_number': '14', 'xmin': 98000.0, 'ymin': 186000.0, 'xmax': 130000.0, 'ymax': 218000.0, 'file_link': 'https://downloadagiv.blob.core.windows.net/dhm-vlaanderen-ii-dsm-raster-1m/DHMVIIDSMRAS1m_k14.zip'}, {'file_number': '15', 'xmin': 130000.0, 'ymin': 186000.0, 'xmax': 162000.0, 'ymax': 218000.0, 'file_link': 'https://downloadagiv.blob.core.windows.net/dhm-vlaanderen-ii-dsm-raster-1m/DHMVIIDSMRAS1m_k15.zip'}, {'file_number': '16', 'xmin': 162000.0, 'ymin': 186000.0, 'xmax': 194000.0, 'ymax': 218000.0, 'file_link': 'https://downloadagiv.blob.core.windows.net/dhm-vlaanderen-ii-dsm-raster-1m/DHMVIIDSMRAS1m_k16.zip'}, {'file_number': '17', 'xmin': 194000.0, 'ymin': 186000.0, 'xmax': 226000.0, 'ymax': 218000.0, 'file_link': 'https://downloadagiv.blob.core.windows.net/dhm-vlaanderen-ii-dsm-raster-1m/DHMVIIDSMRAS1m_k17.zip'}, {'file_number': '18', 'xmin': 226000.0, 'ymin': 186000.0, 'xmax': 258000.0, 'ymax': 218000.0, 'file_link': 'https://downloadagiv.blob.core.windows.net/dhm-vlaanderen-ii-dsm-raster-1m/DHMVIIDSMRAS1m_k18.zip'}, {'file_number': '19', 'xmin': 17000.0, 'ymin': 181000.0, 'xmax': 34000.0, 'ymax': 198000.0, 'file_link': 'https://downloadagiv.blob.core.windows.net/dhm-vlaanderen-ii-dsm-raster-1m/DHMVIIDSMRAS1m_k19.zip'}, {'file_number': '20', 'xmin': 34000.0, 'ymin': 166000.0, 'xmax': 66000.0, 'ymax': 198000.0, 'file_link': 'https://downloadagiv.blob.core.windows.net/dhm-vlaanderen-ii-dsm-raster-1m/DHMVIIDSMRAS1m_k20.zip'}, {'file_number': '21', 'xmin': 66000.0, 'ymin': 166000.0, 'xmax': 98000.0, 'ymax': 198000.0, 'file_link': 'https://downloadagiv.blob.core.windows.net/dhm-vlaanderen-ii-dsm-raster-1m/DHMVIIDSMRAS1m_k21.zip'}, {'file_number': '22', 'xmin': 98000.0, 'ymin': 166000.0, 'xmax': 130000.0, 'ymax': 198000.0, 'file_link': 'https://downloadagiv.blob.core.windows.net/dhm-vlaanderen-ii-dsm-raster-1m/DHMVIIDSMRAS1m_k22.zip'}, {'file_number': '23', 'xmin': 130000.0, 'ymin': 166000.0, 'xmax': 162000.0, 'ymax': 198000.0, 'file_link': 'https://downloadagiv.blob.core.windows.net/dhm-vlaanderen-ii-dsm-raster-1m/DHMVIIDSMRAS1m_k23.zip'}, {'file_number': '24', 'xmin': 162000.0, 'ymin': 166000.0, 'xmax': 194000.0, 'ymax': 198000.0, 'file_link': 'https://downloadagiv.blob.core.windows.net/dhm-vlaanderen-ii-dsm-raster-1m/DHMVIIDSMRAS1m_k24.zip'}, {'file_number': '25', 'xmin': 194000.0, 'ymin': 166000.0, 'xmax': 226000.0, 'ymax': 198000.0, 'file_link': 'https://downloadagiv.blob.core.windows.net/dhm-vlaanderen-ii-dsm-raster-1m/DHMVIIDSMRAS1m_k25.zip'}, {'file_number': '26', 'xmin': 226000.0, 'ymin': 166000.0, 'xmax': 258000.0, 'ymax': 198000.0, 'file_link': 'https://downloadagiv.blob.core.windows.net/dhm-vlaanderen-ii-dsm-raster-1m/DHMVIIDSMRAS1m_k26.zip'}, {'file_number': '27', 'xmin': 20000.0, 'ymin': 164000.0, 'xmax': 34000.0, 'ymax': 178000.0, 'file_link': 'https://downloadagiv.blob.core.windows.net/dhm-vlaanderen-ii-dsm-raster-1m/DHMVIIDSMRAS1m_k27.zip'}, {'file_number': '28', 'xmin': 34000.0, 'ymin': 146000.0, 'xmax': 66000.0, 'ymax': 178000.0, 'file_link': 'https://downloadagiv.blob.core.windows.net/dhm-vlaanderen-ii-dsm-raster-1m/DHMVIIDSMRAS1m_k28.zip'}, {'file_number': '29', 'xmin': 66000.0, 'ymin': 146000.0, 'xmax': 98000.0, 'ymax': 178000.0, 'file_link': 'https://downloadagiv.blob.core.windows.net/dhm-vlaanderen-ii-dsm-raster-1m/DHMVIIDSMRAS1m_k29.zip'}]\n",
    "\n",
    "# file_links = [{'file_number': '30', 'xmin': 98000.0, 'ymin': 146000.0, 'xmax': 130000.0, 'ymax': 178000.0}, {'file_number': '31', 'xmin': 130000.0, 'ymin': 146000.0, 'xmax': 162000.0, 'ymax': 178000.0}, {'file_number': '32', 'xmin': 162000.0, 'ymin': 146000.0, 'xmax': 194000.0, 'ymax': 178000.0}, {'file_number': '33', 'xmin': 194000.0, 'ymin': 146000.0, 'xmax': 226000.0, 'ymax': 178000.0}]\n",
    "file_links = [{'file_number': '34', 'xmin': 226000.0, 'ymin': 146000.0, 'xmax': 258000.0, 'ymax': 178000.0}, {'file_number': '35', 'xmin': 258000.0, 'ymin': 163000.0, 'xmax': 264000.0, 'ymax': 169000.0}, {'file_number': '36', 'xmin': 34000.0, 'ymin': 126000.0, 'xmax': 66000.0, 'ymax': 158000.0}, {'file_number': '37', 'xmin': 66000.0, 'ymin': 126000.0, 'xmax': 98000.0, 'ymax': 158000.0}, {'file_number': '38', 'xmin': 98000.0, 'ymin': 126000.0, 'xmax': 130000.0, 'ymax': 158000.0}, {'file_number': '39', 'xmin': 130000.0, 'ymin': 126000.0, 'xmax': 162000.0, 'ymax': 158000.0}, {'file_number': '40', 'xmin': 162000.0, 'ymin': 126000.0, 'xmax': 194000.0, 'ymax': 158000.0}, {'file_number': '41', 'xmin': 194000.0, 'ymin': 126000.0, 'xmax': 226000.0, 'ymax': 158000.0}, {'file_number': '42', 'xmin': 226000.0, 'ymin': 126000.0, 'xmax': 258000.0, 'ymax': 158000.0}, {'file_number': '43', 'xmin': 258000.0, 'ymin': 152000.0, 'xmax': 264000.0, 'ymax': 158000.0}]"
   ]
  },
  {
   "cell_type": "code",
   "execution_count": 5,
   "id": "51b78b18",
   "metadata": {},
   "outputs": [],
   "source": [
    "import pandas as pd\n",
    "df = pd.DataFrame(file_links)\n",
    "df.to_csv(\"../raster_file_list1.csv\",mode = 'a', index=False)"
   ]
  },
  {
   "cell_type": "code",
   "execution_count": null,
   "id": "4fb7c5b1",
   "metadata": {},
   "outputs": [],
   "source": []
  }
 ],
 "metadata": {
  "kernelspec": {
   "display_name": "Python 3 (ipykernel)",
   "language": "python",
   "name": "python3"
  },
  "language_info": {
   "codemirror_mode": {
    "name": "ipython",
    "version": 3
   },
   "file_extension": ".py",
   "mimetype": "text/x-python",
   "name": "python",
   "nbconvert_exporter": "python",
   "pygments_lexer": "ipython3",
   "version": "3.9.7"
  }
 },
 "nbformat": 4,
 "nbformat_minor": 5
}
