{
 "cells": [
  {
   "cell_type": "code",
   "execution_count": 1,
   "id": "49b9be96",
   "metadata": {},
   "outputs": [],
   "source": [
    "from osgeo import gdal, osr\n",
    "import numpy as np\n",
    "import matplotlib.pyplot as plt"
   ]
  },
  {
   "cell_type": "code",
   "execution_count": 2,
   "id": "887b0c05",
   "metadata": {},
   "outputs": [],
   "source": [
    "ds = gdal.Open(\"geo-files/DHMVIIDSMRAS1m_k01/GeoTIFF/DHMVIIDSMRAS1m_k01.tif\")\n",
    "proj = ds.GetProjection()"
   ]
  },
  {
   "cell_type": "code",
   "execution_count": 3,
   "id": "a14e15f7",
   "metadata": {},
   "outputs": [
    {
     "data": {
      "text/plain": [
       "17000"
      ]
     },
     "execution_count": 3,
     "metadata": {},
     "output_type": "execute_result"
    }
   ],
   "source": [
    "ds.RasterXSize"
   ]
  },
  {
   "cell_type": "code",
   "execution_count": 4,
   "id": "5675d727",
   "metadata": {},
   "outputs": [
    {
     "data": {
      "text/plain": [
       "9000"
      ]
     },
     "execution_count": 4,
     "metadata": {},
     "output_type": "execute_result"
    }
   ],
   "source": [
    "ds.RasterYSize\n"
   ]
  },
  {
   "cell_type": "code",
   "execution_count": 5,
   "id": "282c72f5",
   "metadata": {},
   "outputs": [
    {
     "data": {
      "text/plain": [
       "1"
      ]
     },
     "execution_count": 5,
     "metadata": {},
     "output_type": "execute_result"
    }
   ],
   "source": [
    "# Number of bands\n",
    "ds.RasterCount"
   ]
  },
  {
   "cell_type": "code",
   "execution_count": 6,
   "id": "43efd1a6",
   "metadata": {},
   "outputs": [
    {
     "data": {
      "text/plain": [
       "{'AREA_OR_POINT': 'Area', 'VERTICAL_SRS': 'EPSG:5110'}"
      ]
     },
     "execution_count": 6,
     "metadata": {},
     "output_type": "execute_result"
    }
   ],
   "source": [
    "# Metadata for the raster dataset\n",
    "ds.GetMetadata()"
   ]
  },
  {
   "cell_type": "code",
   "execution_count": 7,
   "id": "d2494562",
   "metadata": {},
   "outputs": [],
   "source": [
    "# Read the raster band as separate variable\n",
    "band = ds.GetRasterBand(1)"
   ]
  },
  {
   "cell_type": "code",
   "execution_count": 8,
   "id": "46185f32",
   "metadata": {},
   "outputs": [
    {
     "data": {
      "text/plain": [
       "osgeo.gdal.Band"
      ]
     },
     "execution_count": 8,
     "metadata": {},
     "output_type": "execute_result"
    }
   ],
   "source": [
    "# Check type of the variable 'band'\n",
    "type(band)"
   ]
  },
  {
   "cell_type": "code",
   "execution_count": 9,
   "id": "7818f32a",
   "metadata": {},
   "outputs": [
    {
     "data": {
      "text/plain": [
       "'Float32'"
      ]
     },
     "execution_count": 9,
     "metadata": {},
     "output_type": "execute_result"
    }
   ],
   "source": [
    "# Data type of the values\n",
    "gdal.GetDataTypeName(band.DataType)"
   ]
  },
  {
   "cell_type": "code",
   "execution_count": 10,
   "id": "8312fab2",
   "metadata": {},
   "outputs": [],
   "source": [
    "# Compute statistics if needed\n",
    "if band.GetMinimum() is None or band.GetMaximum()is None:\n",
    "    band.ComputeStatistics(0)\n",
    "    print(\"Statistics computed.\")"
   ]
  },
  {
   "cell_type": "code",
   "execution_count": 11,
   "id": "af89c4ef",
   "metadata": {},
   "outputs": [
    {
     "data": {
      "text/plain": [
       "{'STATISTICS_MAXIMUM': '98.559997558594',\n",
       " 'STATISTICS_MEAN': '15.598165931673',\n",
       " 'STATISTICS_MINIMUM': '-3.25',\n",
       " 'STATISTICS_STDDEV': '7.0595914207194'}"
      ]
     },
     "execution_count": 11,
     "metadata": {},
     "output_type": "execute_result"
    }
   ],
   "source": [
    "# Fetch metadata for the band\n",
    "band.GetMetadata()"
   ]
  },
  {
   "cell_type": "code",
   "execution_count": 12,
   "id": "dfac5ca8",
   "metadata": {},
   "outputs": [
    {
     "name": "stdout",
     "output_type": "stream",
     "text": [
      "[ NO DATA VALUE ] =  -9999.0\n",
      "[ MIN ] =  -3.25\n",
      "[ MAX ] =  98.559997558594\n"
     ]
    }
   ],
   "source": [
    "# Print only selected metadata:\n",
    "print (\"[ NO DATA VALUE ] = \", band.GetNoDataValue()) # none\n",
    "print (\"[ MIN ] = \", band.GetMinimum())\n",
    "print (\"[ MAX ] = \", band.GetMaximum())"
   ]
  },
  {
   "cell_type": "code",
   "execution_count": 13,
   "id": "46b3b56a",
   "metadata": {},
   "outputs": [
    {
     "data": {
      "text/plain": [
       "<matplotlib.image.AxesImage at 0x7fd3c55e71f0>"
      ]
     },
     "execution_count": 13,
     "metadata": {},
     "output_type": "execute_result"
    },
    {
     "data": {
      "image/png": "[encoded data removed]",
      "text/plain": [
       "<Figure size 432x288 with 1 Axes>"
      ]
     },
     "metadata": {
      "needs_background": "light"
     },
     "output_type": "display_data"
    }
   ],
   "source": [
    "array = band.ReadAsArray()\n",
    "extent = np.min(x), np.max(x), np.min(y), np.max(y)\n",
    "plt.figure()\n",
    "plt.imshow(array, extent=extent)"
   ]
  },
  {
   "cell_type": "code",
   "execution_count": 14,
   "id": "098f4250",
   "metadata": {},
   "outputs": [
    {
     "data": {
      "text/plain": [
       "(145000.0, 1.0, 0.0, 247000.0, 0.0, -1.0)"
      ]
     },
     "execution_count": 14,
     "metadata": {},
     "output_type": "execute_result"
    }
   ],
   "source": [
    "ds.GetGeoTransform()"
   ]
  },
  {
   "cell_type": "code",
   "execution_count": 15,
   "id": "71c9b180",
   "metadata": {},
   "outputs": [
    {
     "name": "stdout",
     "output_type": "stream",
     "text": [
      "Belge 1972 / Belgian Lambert 72\n",
      "Belge 1972\n"
     ]
    }
   ],
   "source": [
    "srs=osr.SpatialReference(wkt=proj)\n",
    "if srs.IsProjected:\n",
    "    print(srs.GetAttrValue('projcs'))\n",
    "print(srs.GetAttrValue('geogcs'))"
   ]
  },
  {
   "cell_type": "code",
   "execution_count": 16,
   "id": "4951a244",
   "metadata": {},
   "outputs": [
    {
     "data": {
      "text/plain": [
       "'PROJCS[\"Belge 1972 / Belgian Lambert 72\",GEOGCS[\"Belge 1972\",DATUM[\"Reseau_National_Belge_1972\",SPHEROID[\"International 1924\",6378388,297,AUTHORITY[\"EPSG\",\"7022\"]],TOWGS84[-106.869,52.2978,-103.724,0.3366,-0.457,1.8422,-1.2747],AUTHORITY[\"EPSG\",\"6313\"]],PRIMEM[\"Greenwich\",0,AUTHORITY[\"EPSG\",\"8901\"]],UNIT[\"degree\",0.0174532925199433,AUTHORITY[\"EPSG\",\"9122\"]],AUTHORITY[\"EPSG\",\"4313\"]],PROJECTION[\"Lambert_Conformal_Conic_2SP\"],PARAMETER[\"latitude_of_origin\",90],PARAMETER[\"central_meridian\",4.36748666666667],PARAMETER[\"standard_parallel_1\",51.1666672333333],PARAMETER[\"standard_parallel_2\",49.8333339],PARAMETER[\"false_easting\",150000.013],PARAMETER[\"false_northing\",5400088.438],UNIT[\"metre\",1,AUTHORITY[\"EPSG\",\"9001\"]],AXIS[\"Easting\",EAST],AXIS[\"Northing\",NORTH],AUTHORITY[\"EPSG\",\"31370\"]]'"
      ]
     },
     "execution_count": 16,
     "metadata": {},
     "output_type": "execute_result"
    }
   ],
   "source": [
    "proj"
   ]
  },
  {
   "cell_type": "code",
   "execution_count": 17,
   "id": "aec4bde1",
   "metadata": {},
   "outputs": [
    {
     "data": {
      "text/plain": [
       "(-106.869, 52.2978, -103.724, 0.3366, -0.457, 1.8422, -1.2747)"
      ]
     },
     "execution_count": 17,
     "metadata": {},
     "output_type": "execute_result"
    }
   ],
   "source": [
    "srs.GetTOWGS84()"
   ]
  },
  {
   "cell_type": "code",
   "execution_count": null,
   "id": "d954fb30",
   "metadata": {},
   "outputs": [],
   "source": []
  }
 ],
 "metadata": {
  "kernelspec": {
   "display_name": "Python 3 (ipykernel)",
   "language": "python",
   "name": "python3"
  },
  "language_info": {
   "codemirror_mode": {
    "name": "ipython",
    "version": 3
   },
   "file_extension": ".py",
   "mimetype": "text/x-python",
   "name": "python",
   "nbconvert_exporter": "python",
   "pygments_lexer": "ipython3",
   "version": "3.9.7"
  }
 },
 "nbformat": 4,
 "nbformat_minor": 5
}
