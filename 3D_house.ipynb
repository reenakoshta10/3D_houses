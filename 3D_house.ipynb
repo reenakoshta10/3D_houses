{
 "cells": [
  {
   "cell_type": "code",
   "execution_count": 1,
   "id": "20ddb0ef",
   "metadata": {},
   "outputs": [
    {
     "ename": "ModuleNotFoundError",
     "evalue": "No module named 'noise'",
     "output_type": "error",
     "traceback": [
      "\u001b[0;31m---------------------------------------------------------------------------\u001b[0m",
      "\u001b[0;31mModuleNotFoundError\u001b[0m                       Traceback (most recent call last)",
      "\u001b[0;32m/tmp/ipykernel_11412/3630752337.py\u001b[0m in \u001b[0;36m<module>\u001b[0;34m\u001b[0m\n\u001b[1;32m      1\u001b[0m \u001b[0mget_ipython\u001b[0m\u001b[0;34m(\u001b[0m\u001b[0;34m)\u001b[0m\u001b[0;34m.\u001b[0m\u001b[0mrun_line_magic\u001b[0m\u001b[0;34m(\u001b[0m\u001b[0;34m'matplotlib'\u001b[0m\u001b[0;34m,\u001b[0m \u001b[0;34m'inline'\u001b[0m\u001b[0;34m)\u001b[0m\u001b[0;34m\u001b[0m\u001b[0;34m\u001b[0m\u001b[0m\n\u001b[0;32m----> 2\u001b[0;31m \u001b[0;32mimport\u001b[0m \u001b[0mnoise\u001b[0m\u001b[0;34m\u001b[0m\u001b[0;34m\u001b[0m\u001b[0m\n\u001b[0m\u001b[1;32m      3\u001b[0m \u001b[0;32mimport\u001b[0m \u001b[0mnumpy\u001b[0m \u001b[0;32mas\u001b[0m \u001b[0mnp\u001b[0m\u001b[0;34m\u001b[0m\u001b[0;34m\u001b[0m\u001b[0m\n\u001b[1;32m      4\u001b[0m \u001b[0;32mimport\u001b[0m \u001b[0mmatplotlib\u001b[0m\u001b[0;34m\u001b[0m\u001b[0;34m\u001b[0m\u001b[0m\n\u001b[1;32m      5\u001b[0m \u001b[0;32mfrom\u001b[0m \u001b[0mmpl_toolkits\u001b[0m\u001b[0;34m.\u001b[0m\u001b[0mmplot3d\u001b[0m \u001b[0;32mimport\u001b[0m \u001b[0maxes3d\u001b[0m\u001b[0;34m\u001b[0m\u001b[0;34m\u001b[0m\u001b[0m\n",
      "\u001b[0;31mModuleNotFoundError\u001b[0m: No module named 'noise'"
     ]
    }
   ],
   "source": [
    "%matplotlib inline\n",
    "import noise\n",
    "import numpy as np\n",
    "import matplotlib\n",
    "from mpl_toolkits.mplot3d import axes3d"
   ]
  },
  {
   "cell_type": "code",
   "execution_count": null,
   "id": "1a04ce40",
   "metadata": {},
   "outputs": [],
   "source": [
    "help(noise.pnoise2)\n",
    "help(noise.pnoise3)"
   ]
  },
  {
   "cell_type": "code",
   "execution_count": null,
   "id": "7a0f5f73",
   "metadata": {},
   "outputs": [],
   "source": [
    "shape = (50,50)\n",
    "scale = 100.0\n",
    "octaves = 6\n",
    "persistence = 0.5\n",
    "lacunarity = 2.0"
   ]
  },
  {
   "cell_type": "code",
   "execution_count": null,
   "id": "5fec21b5",
   "metadata": {},
   "outputs": [],
   "source": [
    "world = np.zeros(shape)\n",
    "for i in range(shape[0]):\n",
    "    for j in range(shape[1]):\n",
    "        world[i][j] = noise.pnoise2(i/scale, \n",
    "                                    j/scale, \n",
    "                                    octaves=octaves, \n",
    "                                    persistence=persistence, \n",
    "                                    lacunarity=lacunarity, \n",
    "                                    repeatx=1024, \n",
    "                                    repeaty=1024, \n",
    "                                    base=42)"
   ]
  },
  {
   "cell_type": "code",
   "execution_count": null,
   "id": "09940f16",
   "metadata": {},
   "outputs": [],
   "source": [
    "matplotlib.pyplot.imshow(world,cmap='terrain')"
   ]
  },
  {
   "cell_type": "code",
   "execution_count": null,
   "id": "313c5f52",
   "metadata": {},
   "outputs": [],
   "source": [
    "lin_x = np.linspace(0,1,shape[0],endpoint=False)\n",
    "lin_y = np.linspace(0,1,shape[1],endpoint=False)\n",
    "x,y = np.meshgrid(lin_x,lin_y)"
   ]
  },
  {
   "cell_type": "code",
   "execution_count": null,
   "id": "8a542515",
   "metadata": {},
   "outputs": [],
   "source": [
    "fig = matplotlib.pyplot.figure()\n",
    "ax = fig.add_subplot(111, projection=\"3d\")\n",
    "ax.plot_surface(x,y,world,cmap='terrain')"
   ]
  },
  {
   "cell_type": "code",
   "execution_count": null,
   "id": "f84a15e4",
   "metadata": {},
   "outputs": [],
   "source": [
    "terrain_cmap = matplotlib.cm.get_cmap('terrain')\n",
    "def matplotlib_to_plotly(cmap, pl_entries):\n",
    "    h = 1.0/(pl_entries-1)\n",
    "    pl_colorscale = []\n",
    "\n",
    "    for k in range(pl_entries):\n",
    "        C = list(map(np.uint8, np.array(cmap(k*h)[:3])*255))\n",
    "        pl_colorscale.append([k*h, 'rgb'+str((C[0], C[1], C[2]))])\n",
    "\n",
    "    return pl_colorscale\n",
    "\n",
    "terrain = matplotlib_to_plotly(terrain_cmap, 255)"
   ]
  },
  {
   "cell_type": "code",
   "execution_count": null,
   "id": "7ebe165e",
   "metadata": {},
   "outputs": [],
   "source": [
    "import plotly\n",
    "import plotly.graph_objects as go\n",
    "plotly.offline.init_notebook_mode(connected=True)\n",
    "\n",
    "fig = go.Figure(data=[go.Surface(colorscale=terrain,z=world)])\n",
    "\n",
    "fig.update_layout(title='Random 3D Terrain')\n",
    "\n",
    "# Note that include_plotlyjs is used as cdn so that the static site generator can read it and present it on the browser. This is not typically required.\n",
    "html = plotly.offline.plot(fig, filename='3d-terrain-plotly.html',include_plotlyjs='cdn')"
   ]
  },
  {
   "cell_type": "code",
   "execution_count": null,
   "id": "208e4d6e",
   "metadata": {},
   "outputs": [],
   "source": [
    "from IPython.core.display import HTML\n",
    "HTML(html)"
   ]
  },
  {
   "cell_type": "code",
   "execution_count": null,
   "id": "9e7505c1",
   "metadata": {},
   "outputs": [],
   "source": []
  }
 ],
 "metadata": {
  "kernelspec": {
   "display_name": "Python 3 (ipykernel)",
   "language": "python",
   "name": "python3"
  },
  "language_info": {
   "codemirror_mode": {
    "name": "ipython",
    "version": 3
   },
   "file_extension": ".py",
   "mimetype": "text/x-python",
   "name": "python",
   "nbconvert_exporter": "python",
   "pygments_lexer": "ipython3",
   "version": "3.9.7"
  }
 },
 "nbformat": 4,
 "nbformat_minor": 5
}
