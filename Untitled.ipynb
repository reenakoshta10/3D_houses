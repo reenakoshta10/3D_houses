{
 "cells": [
  {
   "cell_type": "code",
   "execution_count": 1,
   "id": "6189c627",
   "metadata": {},
   "outputs": [
    {
     "name": "stdout",
     "output_type": "stream",
     "text": [
      "Installing lidar ...\n",
      "Requirement already satisfied: lidar in /home/admin1/anaconda3/lib/python3.8/site-packages (0.6.1)\n",
      "Requirement already satisfied: Click>=6.0 in /home/admin1/anaconda3/lib/python3.8/site-packages (from lidar) (7.1.2)\n",
      "Requirement already satisfied: pyshp in /home/admin1/anaconda3/lib/python3.8/site-packages (from lidar) (2.1.3)\n",
      "Requirement already satisfied: scipy in /home/admin1/anaconda3/lib/python3.8/site-packages (from lidar) (1.6.2)\n",
      "Requirement already satisfied: whitebox in /home/admin1/anaconda3/lib/python3.8/site-packages (from lidar) (2.0.3)\n",
      "Requirement already satisfied: PySimpleGUI==2.30.0 in /home/admin1/anaconda3/lib/python3.8/site-packages (from lidar) (2.30.0)\n",
      "Requirement already satisfied: numpy in /home/admin1/anaconda3/lib/python3.8/site-packages (from lidar) (1.20.1)\n",
      "Requirement already satisfied: scikit-image in /home/admin1/anaconda3/lib/python3.8/site-packages (from lidar) (0.18.1)\n",
      "Requirement already satisfied: matplotlib in /home/admin1/anaconda3/lib/python3.8/site-packages (from lidar) (3.3.4)\n",
      "Requirement already satisfied: richdem in /home/admin1/anaconda3/lib/python3.8/site-packages (from lidar) (0.3.4)\n",
      "Requirement already satisfied: pillow>=6.2.0 in /home/admin1/anaconda3/lib/python3.8/site-packages (from matplotlib->lidar) (8.2.0)\n",
      "Requirement already satisfied: kiwisolver>=1.0.1 in /home/admin1/anaconda3/lib/python3.8/site-packages (from matplotlib->lidar) (1.3.1)\n",
      "Requirement already satisfied: cycler>=0.10 in /home/admin1/anaconda3/lib/python3.8/site-packages (from matplotlib->lidar) (0.10.0)\n",
      "Requirement already satisfied: pyparsing!=2.0.4,!=2.1.2,!=2.1.6,>=2.0.3 in /home/admin1/.local/lib/python3.8/site-packages (from matplotlib->lidar) (2.4.7)\n",
      "Requirement already satisfied: python-dateutil>=2.1 in /home/admin1/anaconda3/lib/python3.8/site-packages (from matplotlib->lidar) (2.8.1)\n",
      "Requirement already satisfied: six in /home/admin1/anaconda3/lib/python3.8/site-packages (from cycler>=0.10->matplotlib->lidar) (1.15.0)\n",
      "Requirement already satisfied: networkx>=2.0 in /home/admin1/anaconda3/lib/python3.8/site-packages (from scikit-image->lidar) (2.5)\n",
      "Requirement already satisfied: imageio>=2.3.0 in /home/admin1/anaconda3/lib/python3.8/site-packages (from scikit-image->lidar) (2.9.0)\n",
      "Requirement already satisfied: tifffile>=2019.7.26 in /home/admin1/anaconda3/lib/python3.8/site-packages (from scikit-image->lidar) (2020.10.1)\n",
      "Requirement already satisfied: PyWavelets>=1.1.1 in /home/admin1/anaconda3/lib/python3.8/site-packages (from scikit-image->lidar) (1.1.1)\n",
      "Requirement already satisfied: decorator>=4.3.0 in /home/admin1/.local/lib/python3.8/site-packages (from networkx>=2.0->scikit-image->lidar) (5.1.0)\n"
     ]
    }
   ],
   "source": [
    "import subprocess\n",
    "\n",
    "try:\n",
    "    import lidar\n",
    "except ImportError:\n",
    "    print('Installing lidar ...')\n",
    "    subprocess.check_call([\"python\", '-m', 'pip', 'install', 'lidar'])"
   ]
  },
  {
   "cell_type": "code",
   "execution_count": 2,
   "id": "20c192d7",
   "metadata": {},
   "outputs": [
    {
     "ename": "ModuleNotFoundError",
     "evalue": "No module named 'osgeo'",
     "output_type": "error",
     "traceback": [
      "\u001b[0;31m---------------------------------------------------------------------------\u001b[0m",
      "\u001b[0;31mModuleNotFoundError\u001b[0m                       Traceback (most recent call last)",
      "\u001b[0;32m/tmp/ipykernel_104381/280418643.py\u001b[0m in \u001b[0;36m<module>\u001b[0;34m\u001b[0m\n\u001b[1;32m      1\u001b[0m \u001b[0;32mimport\u001b[0m \u001b[0mos\u001b[0m\u001b[0;34m\u001b[0m\u001b[0;34m\u001b[0m\u001b[0m\n\u001b[1;32m      2\u001b[0m \u001b[0;32mimport\u001b[0m \u001b[0mpkg_resources\u001b[0m\u001b[0;34m\u001b[0m\u001b[0;34m\u001b[0m\u001b[0m\n\u001b[0;32m----> 3\u001b[0;31m \u001b[0;32mfrom\u001b[0m \u001b[0mlidar\u001b[0m \u001b[0;32mimport\u001b[0m \u001b[0;34m*\u001b[0m\u001b[0;34m\u001b[0m\u001b[0;34m\u001b[0m\u001b[0m\n\u001b[0m\u001b[1;32m      4\u001b[0m \u001b[0;34m\u001b[0m\u001b[0m\n\u001b[1;32m      5\u001b[0m \u001b[0;31m# identify the sample data directory of the package\u001b[0m\u001b[0;34m\u001b[0m\u001b[0;34m\u001b[0m\u001b[0;34m\u001b[0m\u001b[0m\n",
      "\u001b[0;32m~/anaconda3/lib/python3.8/site-packages/lidar/__init__.py\u001b[0m in \u001b[0;36m<module>\u001b[0;34m\u001b[0m\n\u001b[1;32m      7\u001b[0m \u001b[0m__version__\u001b[0m \u001b[0;34m=\u001b[0m \u001b[0;34m\"__version__ = '0.6.1'\"\u001b[0m\u001b[0;34m\u001b[0m\u001b[0;34m\u001b[0m\u001b[0m\n\u001b[1;32m      8\u001b[0m \u001b[0;34m\u001b[0m\u001b[0m\n\u001b[0;32m----> 9\u001b[0;31m \u001b[0;32mfrom\u001b[0m \u001b[0;34m.\u001b[0m\u001b[0mfilling\u001b[0m \u001b[0;32mimport\u001b[0m \u001b[0mExtractSinks\u001b[0m\u001b[0;34m\u001b[0m\u001b[0;34m\u001b[0m\u001b[0m\n\u001b[0m\u001b[1;32m     10\u001b[0m \u001b[0;32mfrom\u001b[0m \u001b[0;34m.\u001b[0m\u001b[0mslicing\u001b[0m \u001b[0;32mimport\u001b[0m \u001b[0mDelineateDepressions\u001b[0m\u001b[0;34m\u001b[0m\u001b[0;34m\u001b[0m\u001b[0m\n\u001b[1;32m     11\u001b[0m \u001b[0;32mfrom\u001b[0m \u001b[0;34m.\u001b[0m\u001b[0mfiltering\u001b[0m \u001b[0;32mimport\u001b[0m \u001b[0mMeanFilter\u001b[0m\u001b[0;34m,\u001b[0m \u001b[0mMedianFilter\u001b[0m\u001b[0;34m,\u001b[0m \u001b[0mGaussianFilter\u001b[0m\u001b[0;34m\u001b[0m\u001b[0;34m\u001b[0m\u001b[0m\n",
      "\u001b[0;32m~/anaconda3/lib/python3.8/site-packages/lidar/filling.py\u001b[0m in \u001b[0;36m<module>\u001b[0;34m\u001b[0m\n\u001b[1;32m      9\u001b[0m \u001b[0;32mfrom\u001b[0m \u001b[0mscipy\u001b[0m \u001b[0;32mimport\u001b[0m \u001b[0mndimage\u001b[0m\u001b[0;34m\u001b[0m\u001b[0;34m\u001b[0m\u001b[0m\n\u001b[1;32m     10\u001b[0m \u001b[0;32mfrom\u001b[0m \u001b[0mskimage\u001b[0m \u001b[0;32mimport\u001b[0m \u001b[0mmeasure\u001b[0m\u001b[0;34m\u001b[0m\u001b[0;34m\u001b[0m\u001b[0m\n\u001b[0;32m---> 11\u001b[0;31m \u001b[0;32mfrom\u001b[0m \u001b[0mosgeo\u001b[0m \u001b[0;32mimport\u001b[0m \u001b[0mgdal\u001b[0m\u001b[0;34m,\u001b[0m \u001b[0mogr\u001b[0m\u001b[0;34m,\u001b[0m \u001b[0mosr\u001b[0m\u001b[0;34m\u001b[0m\u001b[0;34m\u001b[0m\u001b[0m\n\u001b[0m\u001b[1;32m     12\u001b[0m \u001b[0;34m\u001b[0m\u001b[0m\n\u001b[1;32m     13\u001b[0m \u001b[0;34m\u001b[0m\u001b[0m\n",
      "\u001b[0;31mModuleNotFoundError\u001b[0m: No module named 'osgeo'"
     ]
    }
   ],
   "source": [
    "import os\n",
    "import pkg_resources\n",
    "from lidar import *\n",
    "\n",
    "# identify the sample data directory of the package\n",
    "package_name = 'lidar'\n",
    "data_dir = pkg_resources.resource_filename(package_name, 'data/')\n",
    "\n",
    "# use the sample dem. Change it to your own dem if needed\n",
    "in_dem = os.path.join(data_dir, 'dem.tif')\n",
    "# set the output directory\n",
    "out_dir = os.getcwd()\n",
    "\n",
    "# parameters for identifying sinks and delineating nested depressions\n",
    "min_size = 1000      # minimum number of pixels as a depression\n",
    "min_depth = 0.5      # minimum depth as a depression\n",
    "interval = 0.3       # slicing interval for the level-set method\n",
    "bool_shp = True      # output shapefiles for each individual level\n",
    "\n",
    "# extracting sinks based on user-defined minimum depression size\n",
    "out_dem = os.path.join(out_dir, \"median.tif\")\n",
    "in_dem = MedianFilter(in_dem, kernel_size=3, out_file=out_dem)\n",
    "sink_path = ExtractSinks(in_dem, min_size, out_dir)\n",
    "dep_id_path, dep_level_path = DelineateDepressions(sink_path, \n",
    "                                                   min_size, \n",
    "                                                   min_depth, \n",
    "                                                   interval, \n",
    "                                                   out_dir, \n",
    "                                                   bool_shp)\n",
    "print('Results are saved in: {}'.format(out_dir))"
   ]
  },
  {
   "cell_type": "code",
   "execution_count": null,
   "id": "38f15cc5",
   "metadata": {},
   "outputs": [],
   "source": []
  }
 ],
 "metadata": {
  "kernelspec": {
   "display_name": "Python 3 (ipykernel)",
   "language": "python",
   "name": "python3"
  },
  "language_info": {
   "codemirror_mode": {
    "name": "ipython",
    "version": 3
   },
   "file_extension": ".py",
   "mimetype": "text/x-python",
   "name": "python",
   "nbconvert_exporter": "python",
   "pygments_lexer": "ipython3",
   "version": "3.9.7"
  }
 },
 "nbformat": 4,
 "nbformat_minor": 5
}
