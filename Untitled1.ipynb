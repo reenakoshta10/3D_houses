{
 "cells": [
  {
   "cell_type": "code",
   "execution_count": 1,
   "id": "da4d204f",
   "metadata": {},
   "outputs": [],
   "source": [
    "import rioxarray\n",
    "import pandas as pd"
   ]
  },
  {
   "cell_type": "code",
   "execution_count": 2,
   "id": "e73b50e3",
   "metadata": {},
   "outputs": [],
   "source": [
    "surface_HARV = rioxarray.open_rasterio(\"geo-files/DHMVIIDSMRAS1m_k01/GeoTIFF/DHMVIIDSMRAS1m_k01.tif\")\n",
    "# surface_HARV"
   ]
  },
  {
   "cell_type": "code",
   "execution_count": 4,
   "id": "3e9523c3",
   "metadata": {},
   "outputs": [
    {
     "data": {
      "text/plain": [
       "(1, 9000, 17000)"
      ]
     },
     "execution_count": 4,
     "metadata": {},
     "output_type": "execute_result"
    }
   ],
   "source": [
    "surface_HARV.shape"
   ]
  },
  {
   "cell_type": "code",
   "execution_count": 11,
   "id": "dc0260b7",
   "metadata": {},
   "outputs": [
    {
     "data": {
      "text/plain": [
       "array([[-9.999e+03, -9.999e+03, -9.999e+03, ...,  1.275e+01,  1.279e+01,\n",
       "         1.280e+01],\n",
       "       [-9.999e+03, -9.999e+03, -9.999e+03, ...,  1.280e+01,  1.281e+01,\n",
       "         1.284e+01],\n",
       "       [-9.999e+03, -9.999e+03, -9.999e+03, ...,  1.284e+01,  1.283e+01,\n",
       "         1.288e+01],\n",
       "       ...,\n",
       "       [ 4.520e+00,  4.550e+00,  4.570e+00, ...,  1.680e+01,  1.693e+01,\n",
       "         1.690e+01],\n",
       "       [ 4.490e+00,  4.570e+00,  4.580e+00, ...,  1.691e+01,  1.691e+01,\n",
       "         1.695e+01],\n",
       "       [ 4.480e+00,  4.550e+00,  4.570e+00, ...,  1.687e+01,  1.688e+01,\n",
       "         1.691e+01]], dtype=float32)"
      ]
     },
     "execution_count": 11,
     "metadata": {},
     "output_type": "execute_result"
    }
   ],
   "source": [
    "surface_HARV.values"
   ]
  },
  {
   "cell_type": "code",
   "execution_count": null,
   "id": "a69f3a5c",
   "metadata": {},
   "outputs": [],
   "source": []
  }
 ],
 "metadata": {
  "kernelspec": {
   "display_name": "Python 3 (ipykernel)",
   "language": "python",
   "name": "python3"
  },
  "language_info": {
   "codemirror_mode": {
    "name": "ipython",
    "version": 3
   },
   "file_extension": ".py",
   "mimetype": "text/x-python",
   "name": "python",
   "nbconvert_exporter": "python",
   "pygments_lexer": "ipython3",
   "version": "3.9.7"
  }
 },
 "nbformat": 4,
 "nbformat_minor": 5
}
